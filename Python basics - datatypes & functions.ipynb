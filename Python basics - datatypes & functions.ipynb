{
 "cells": [
  {
   "cell_type": "code",
   "execution_count": 2,
   "id": "75fbf1e7",
   "metadata": {},
   "outputs": [
    {
     "name": "stdout",
     "output_type": "stream",
     "text": [
      "Hello \n",
      " Welcome to Python \n",
      " Its fun learning with Python\n"
     ]
    }
   ],
   "source": [
    "#INTRODUCTION TO PYTHON - DATA TYPES,VARIABLES,STRING,STRING OPERATIONS\n",
    "\"\"\"UNDERSTANDING VARIABLES\"\"\"\n",
    "#Using \\n to enter a new line\n",
    "print(\"Hello \\n Welcome to Python \\n Its fun learning with Python\")"
   ]
  },
  {
   "cell_type": "code",
   "execution_count": 3,
   "id": "3cde2a93",
   "metadata": {},
   "outputs": [
    {
     "name": "stdout",
     "output_type": "stream",
     "text": [
      "Hello \t Welcome\n"
     ]
    }
   ],
   "source": [
    "#Using \\t to enter tab\n",
    "print(\"Hello \\t Welcome\")"
   ]
  },
  {
   "cell_type": "code",
   "execution_count": 6,
   "id": "5dfedacc",
   "metadata": {},
   "outputs": [
    {
     "name": "stdout",
     "output_type": "stream",
     "text": [
      "enter a number:10\n",
      "10\n"
     ]
    }
   ],
   "source": [
    "#Understanding a variable\n",
    "a = input(\"enter a number:\")\n",
    "print(a)\n",
    "#variable name cannot start with number'\n",
    "#variable name cannot contain special characters"
   ]
  },
  {
   "cell_type": "code",
   "execution_count": 10,
   "id": "c8989a0c",
   "metadata": {},
   "outputs": [
    {
     "name": "stdout",
     "output_type": "stream",
     "text": [
      "yoga\n",
      "<class 'str'>\n",
      "True\n",
      "12\n",
      "<class 'int'>\n",
      "True\n"
     ]
    }
   ],
   "source": [
    "\"\"\"INTRODUCTION TO DATATYPES\"\"\"\n",
    "name = \"yoga\"\n",
    "print(name)\n",
    "print(type(name))\n",
    "print(isinstance(name,str))\n",
    "name = 12\n",
    "print(name)\n",
    "print(type(name))\n",
    "print(isinstance(name,int))"
   ]
  },
  {
   "cell_type": "code",
   "execution_count": 8,
   "id": "50832e08",
   "metadata": {},
   "outputs": [
    {
     "name": "stdout",
     "output_type": "stream",
     "text": [
      "5\n",
      "o\n",
      "e\n",
      "['e', 'h', 'l', 'l', 'o']\n",
      "2\n",
      "Z\n",
      "a\n",
      "False\n",
      "False\n",
      "False\n",
      "False\n",
      "False\n",
      "YOGA SREE\n",
      "yoga sree\n",
      "yOGA sREE\n"
     ]
    }
   ],
   "source": [
    "\"\"\"STRINGS\"\"\"\n",
    "a = \"hello\"\n",
    "print(len(a))\n",
    "print(max(a))\n",
    "print(min(a))\n",
    "print(sorted(a))\n",
    "#each input is stored as an ASCII value in the backend, so Python sorts based on the ASCII code of each character\n",
    "a = \"aZ\"\n",
    "print(len(a))\n",
    "print(min(a))\n",
    "print(max(a))\n",
    "a = \"Yoga Sree\"\n",
    "print(a.isupper())\n",
    "print(a.islower())\n",
    "print(a.isdigit())\n",
    "print(a.isalpha())\n",
    "print(a.isalnum())\n",
    "print(a.upper())\n",
    "print(a.lower())\n",
    "print(a.swapcase())"
   ]
  },
  {
   "cell_type": "code",
   "execution_count": 23,
   "id": "c758fcc8",
   "metadata": {},
   "outputs": [
    {
     "name": "stdout",
     "output_type": "stream",
     "text": [
      "w\n",
      "e\n",
      "welco\n",
      "wlo\n",
      "!\n",
      "on!!\n",
      "!!!nohtyp ot emoclew\n",
      "20\n",
      "wloet yhn!\n",
      "1\n",
      "0\n",
      "19\n",
      "19\n",
      "3\n",
      "7\n"
     ]
    }
   ],
   "source": [
    "\"\"\"INDEXING - FORWARD & REVERSE INDEXING\"\"\"\n",
    "#FORWARD INDEXING\n",
    "a = \"welcome\"\n",
    "print(a[0])\n",
    "print(a[1])\n",
    "print(a[0:5])#[start_val:end_val]\n",
    "print(a[0:5:2])#[start_val:end_val:step_val]\n",
    "#REVERSE INDEXING\n",
    "a = \"welcome to python!!!\"\n",
    "print(a[-1])\n",
    "print(a[-5:-1:1])\n",
    "\"\"\"INTERVIEW QUESTION - HOW TO REVERSE A STRING\"\"\"\n",
    "print(a[::-1])\n",
    "\"\"\"HOW TO FIND THE END VALUE OF STRING - to include in the range\"\"\"\n",
    "print(len(a))\n",
    "print(a[0:21:2])\n",
    "\"\"\"HOW TO FIND INDEX OF A STRING ELEMENT\"\"\"\n",
    "print(a.index(\"e\"))\n",
    "print(a.index(\"w\",0,10))\n",
    "print(a.index(\"!\",-1))\n",
    "print(a.rindex(\"!\",-1))\n",
    "a = \"yogayoga\"\n",
    "print(a.index(\"a\"))#starts counting from a[0]\n",
    "print(a.rindex(\"a\"))#starts counting from a[-1]"
   ]
  },
  {
   "cell_type": "code",
   "execution_count": 12,
   "id": "64c3ef59",
   "metadata": {},
   "outputs": [
    {
     "name": "stdout",
     "output_type": "stream",
     "text": [
      "4\n",
      "15\n"
     ]
    }
   ],
   "source": [
    "#USING FIND AND RFIND\n",
    "#FIND\n",
    "a = \"Today is Tuesday\"\n",
    "print(a.find(\"y\"))\n",
    "print(a.rfind(\"y\"))\n"
   ]
  },
  {
   "cell_type": "code",
   "execution_count": 21,
   "id": "55b81c8e",
   "metadata": {},
   "outputs": [
    {
     "name": "stdout",
     "output_type": "stream",
     "text": [
      "['sree2632', 'gmail.com']\n",
      "yoga@gmail.com\n",
      "Good Evening\n"
     ]
    }
   ],
   "source": [
    "#USING SPLIT\n",
    "a = \"sree2632@gmail.com\"\n",
    "#b = (a.split(\"@\"))\n",
    "print(b)\n",
    "#print(b[0])\n",
    "#USING REPLACE\n",
    "print(a.replace(\"sree2632\",\"yoga\"))\n",
    "a = \"Good Morning\"\n",
    "print(a.replace(\"Morning\",\"Evening\"))\n",
    "#INTERVIEW Question\n",
    "a = \"shanmugam@yahoo.com\"\n"
   ]
  },
  {
   "cell_type": "code",
   "execution_count": 22,
   "id": "d755fe44",
   "metadata": {},
   "outputs": [
    {
     "name": "stdout",
     "output_type": "stream",
     "text": [
      "5\n"
     ]
    }
   ],
   "source": [
    "#USING COUNT\n",
    "a = \"abracadabra\"\n",
    "print(a.count(\"a\"))"
   ]
  },
  {
   "cell_type": "code",
   "execution_count": 28,
   "id": "137f9bd6",
   "metadata": {},
   "outputs": [
    {
     "name": "stdout",
     "output_type": "stream",
     "text": [
      "False\n",
      "True\n"
     ]
    }
   ],
   "source": [
    "#USING STARTSWITH & ENDSWITH\n",
    "a = \"beware\"\n",
    "print(a.startswith(\"c\"))\n",
    "print(a.endswith(\"re\"))"
   ]
  },
  {
   "cell_type": "code",
   "execution_count": 29,
   "id": "35a1186b",
   "metadata": {},
   "outputs": [
    {
     "name": "stdout",
     "output_type": "stream",
     "text": [
      "WelcometoPython\n"
     ]
    }
   ],
   "source": [
    "#HOW TO REMOVE SPACES - INTERVIEW QUESTION\n",
    "a = \"Welcome to Python\"\n",
    "print(a.replace(\" \",\"\"))\n"
   ]
  },
  {
   "cell_type": "code",
   "execution_count": 31,
   "id": "f30b1d0f",
   "metadata": {},
   "outputs": [
    {
     "name": "stdout",
     "output_type": "stream",
     "text": [
      "<class 'int'>\n",
      "12.0\n",
      "0b1100\n",
      "0xc\n",
      "0o14\n"
     ]
    }
   ],
   "source": [
    "#INTEGERS,FLOATS,BINARY,HEXADECIMAL,DECIMAL,OCTAGEN\n",
    "a = 12\n",
    "print(type(a))\n",
    "print(float(a))\n",
    "print(bin(a))\n",
    "print(hex(a))\n",
    "print(oct(a))"
   ]
  },
  {
   "cell_type": "code",
   "execution_count": 2,
   "id": "5f026371",
   "metadata": {},
   "outputs": [
    {
     "name": "stdout",
     "output_type": "stream",
     "text": [
      "['Kriya', 6, 'Suran', 2]\n",
      "Kriya\n",
      "2\n",
      "4\n"
     ]
    }
   ],
   "source": [
    " #Understanding lists - Lists are created to save namespace that is allocated when multiple variables are declared\n",
    "a = [\"Kriya\", 6, \"Suran\", 2]\n",
    "print(a)\n",
    "print(a[0])\n",
    "print(a[-1])\n",
    "print(len(a))\n",
    "#print(sorted(a))\n"
   ]
  },
  {
   "cell_type": "code",
   "execution_count": 4,
   "id": "84673f43",
   "metadata": {},
   "outputs": [
    {
     "name": "stdout",
     "output_type": "stream",
     "text": [
      "[1, 2, 3, 4]\n",
      "[1, 2, 3, 4, 5, 6, 7, 8]\n",
      "[1, 2, 6, 3, 4, 5, 6, 7, 8]\n"
     ]
    }
   ],
   "source": [
    "#Add elements to list - Insert,Extend,append commands in list\n",
    "a = [1,2,3,4]\n",
    "b = [5,6,7,8]\n",
    "#a.append(b)\n",
    "print(a)\n",
    "a.extend(b)\n",
    "print(a)\n",
    "a.insert(2,6)\n",
    "print(a)"
   ]
  },
  {
   "cell_type": "code",
   "execution_count": 24,
   "id": "0f0fe6ef",
   "metadata": {},
   "outputs": [
    {
     "name": "stdout",
     "output_type": "stream",
     "text": [
      "['Kriya', 'Suran', 'Yoga', 'Naga', 'Abi', 'Nishtha']\n",
      "['Kriya', 'Suran', 'Yoga', 'Naga', 'Nishtha']\n",
      "['Kriya', 'Suran', 'Yoga', 'Naga']\n",
      "['Kriya', 'Suran', 'Yoga']\n"
     ]
    }
   ],
   "source": [
    "#Removing elements from list - Remove,del,pop commands in list\n",
    "a = [\"Kriya\", \"Suran\", \"Aru\", \"Yoga\", \"Naga\", \"Abi\", \"Nishtha\"]\n",
    "a.remove(\"Aru\")\n",
    "print(a)\n",
    "del a[4]\n",
    "print(a)\n",
    "a.pop()\n",
    "print(a)\n",
    "a.pop()\n",
    "print(a)\n"
   ]
  },
  {
   "cell_type": "code",
   "execution_count": 13,
   "id": "7b445967",
   "metadata": {},
   "outputs": [
    {
     "name": "stdout",
     "output_type": "stream",
     "text": [
      "(1, 2, 3, 4, 5)\n"
     ]
    },
    {
     "data": {
      "text/plain": [
       "tuple"
      ]
     },
     "execution_count": 13,
     "metadata": {},
     "output_type": "execute_result"
    }
   ],
   "source": [
    "#Understanding tuples\n",
    "a = (1,2,3,4,5)\n",
    "#a.append(5)\n",
    "print(a)\n",
    "#del a[0]\n",
    "#tuples are immutable - cannot be appended/deleted\n",
    "type(a)"
   ]
  },
  {
   "cell_type": "code",
   "execution_count": 11,
   "id": "50ecf207",
   "metadata": {},
   "outputs": [
    {
     "name": "stdout",
     "output_type": "stream",
     "text": [
      "<class 'dict'>\n",
      "dict_items([('Name', 'Yoga'), ('Age', 12), ('Loc', 'Perambur')])\n",
      "dict_keys(['Name', 'Age', 'Loc'])\n",
      "dict_values(['Yoga', 12, 'Perambur'])\n",
      "Yoga\n",
      "Suran\n",
      "{'Name': 'Suran', 'Age': 12, 'Loc': 'Perambur'}\n",
      "{'Name': 'Suran', 'Age': 12, 'Loc': 'Perambur', 'Work': 'Siruseri'}\n",
      "Siruseri\n",
      "4\n",
      "Work\n",
      "Age\n",
      "{}\n"
     ]
    }
   ],
   "source": [
    "#Understanding dictionaries\n",
    "a = {\"Name\": \"Yoga\", \"Age\": 12, \"Loc\": \"Perambur\"}\n",
    "print(type(a))\n",
    "print(a.items())\n",
    "print(a.keys())\n",
    "print(a.values())\n",
    "print(a[\"Name\"])\n",
    "a[\"Name\"] = \"Suran\"\n",
    "print(a[\"Name\"])\n",
    "print(a)\n",
    "a[\"Work\"] = \"Siruseri\"\n",
    "print(a)\n",
    "print(a.get(\"Work\"))\n",
    "#a.pop(\"Name\")\n",
    "#print(a)\n",
    "print(len(a))\n",
    "print(max(a))\n",
    "print(min(a))\n",
    "#a.clear()\n",
    "#print(a)\n",
    "\n"
   ]
  },
  {
   "cell_type": "code",
   "execution_count": 57,
   "id": "6b12e35b",
   "metadata": {},
   "outputs": [
    {
     "name": "stdout",
     "output_type": "stream",
     "text": [
      "{1, 2, 3, 4, 5, 6, 7, 8, 9}\n",
      "{1, 2, 3, 4, 5, 6, 7, 8, 9, 10}\n",
      "{2, 3, 4, 5, 6, 7, 8, 9, 10}\n",
      "{2, 3, 4, 5, 6, 8, 9, 10}\n",
      "{3, 4, 5, 6, 8, 9, 10}\n"
     ]
    }
   ],
   "source": [
    "#Understanding sets\n",
    "a = {1,2,3,4,5,6,7,7,7,8,4,9}#how to remove duplicate values from \n",
    "print(a)\n",
    "a.add(10)\n",
    "print(a)\n",
    "a.pop()\n",
    "print(a)\n",
    "a.remove(7)\n",
    "print(a)\n",
    "a.pop()\n",
    "print(a)"
   ]
  },
  {
   "cell_type": "code",
   "execution_count": 63,
   "id": "fd26b93e",
   "metadata": {},
   "outputs": [
    {
     "name": "stdout",
     "output_type": "stream",
     "text": [
      "{1, 2, 3, 4, 5, 6}\n",
      "{3, 4}\n",
      "{1, 2}\n"
     ]
    }
   ],
   "source": [
    "#SET OPERATIONS\n",
    "a = {1,2,3,4}\n",
    "b = {3,4,5,6}\n",
    "print(a.union(b))\n",
    "print(a.intersection(b))\n",
    "print(a.difference(b))\n",
    "\n"
   ]
  },
  {
   "cell_type": "code",
   "execution_count": 65,
   "id": "bfccaf8b",
   "metadata": {},
   "outputs": [
    {
     "name": "stdout",
     "output_type": "stream",
     "text": [
      "6\n",
      "2\n",
      "8\n",
      "2.0\n",
      "0\n",
      "2\n"
     ]
    }
   ],
   "source": [
    "#ARITHMETIC OPERATORS\n",
    "a = 4\n",
    "b = 2\n",
    "print(a+b)\n",
    "print(a-b)\n",
    "print(a*b)\n",
    "print(a/b)\n",
    "print(a%b)\n",
    "print(a//b)"
   ]
  },
  {
   "cell_type": "code",
   "execution_count": 66,
   "id": "daea6530",
   "metadata": {},
   "outputs": [
    {
     "name": "stdout",
     "output_type": "stream",
     "text": [
      "True\n",
      "False\n",
      "True\n",
      "True\n"
     ]
    }
   ],
   "source": [
    "#RELATIONAL OPERATORS\n",
    "a = 2\n",
    "b = float(a)\n",
    "print(a==b)\n",
    "print(a!=b)\n",
    "print(a<=b)\n",
    "print(a>=b)\n",
    "\n"
   ]
  },
  {
   "cell_type": "code",
   "execution_count": 69,
   "id": "9e028cfd",
   "metadata": {},
   "outputs": [
    {
     "name": "stdout",
     "output_type": "stream",
     "text": [
      "2.0\n",
      "2.0\n"
     ]
    }
   ],
   "source": [
    "#ASSIGNMENT OPERATOR\n",
    "a = b\n",
    "print(a)\n",
    "print(b)"
   ]
  },
  {
   "cell_type": "code",
   "execution_count": 72,
   "id": "2a56d190",
   "metadata": {},
   "outputs": [
    {
     "name": "stdout",
     "output_type": "stream",
     "text": [
      "True\n",
      "False\n",
      "True\n",
      "True\n"
     ]
    }
   ],
   "source": [
    "#LOGICAL OPERATOR\n",
    "print(True and True)\n",
    "print(True and False)\n",
    "print(True or True)\n",
    "print(True or False)"
   ]
  },
  {
   "cell_type": "code",
   "execution_count": 75,
   "id": "e11d76c4",
   "metadata": {},
   "outputs": [
    {
     "name": "stdout",
     "output_type": "stream",
     "text": [
      "None\n"
     ]
    }
   ],
   "source": [
    "#CONDITIONALS\n",
    "#if-else condition\n",
    "name = 'Kriya'\n",
    "loc = 'chennai'\n",
    "if name == 'yoga' and loc == \"chennai\":\n",
    "    print(\"Im Yoga from Chennai\")\n",
    "elif name == 'Kriya' and loc == 'sivakasi':\n",
    "    print(\"Im Kriya from Sivakasi\")\n",
    "else:\n",
    "    print(\"None\")"
   ]
  },
  {
   "cell_type": "code",
   "execution_count": 3,
   "id": "d0b6bd23",
   "metadata": {},
   "outputs": [
    {
     "name": "stdout",
     "output_type": "stream",
     "text": [
      "Value of a is 0\n",
      "Value of a is 1\n",
      "Value of a is 2\n",
      "Value of a is 3\n",
      "Value of a is 4\n",
      "Value of a is 5\n"
     ]
    }
   ],
   "source": [
    "#for and while loops\n",
    "#while loop\n",
    "a = 0\n",
    "while a<=5:\n",
    "    print(\"Value of a is\", a)\n",
    "    a+=1\n",
    "\n",
    "\n",
    "    \n"
   ]
  },
  {
   "cell_type": "code",
   "execution_count": 12,
   "id": "98ac995d",
   "metadata": {},
   "outputs": [
    {
     "name": "stdout",
     "output_type": "stream",
     "text": [
      "2\n",
      "3\n",
      "4\n",
      "5\n",
      "6\n",
      "7\n",
      "8\n",
      "9\n",
      "10\n",
      "11\n"
     ]
    }
   ],
   "source": [
    "#for loop\n",
    "a = [1,2,3,4,5,6]\n",
    "for i in range(0,10):\n",
    "    print(i+2)\n",
    "    "
   ]
  },
  {
   "cell_type": "code",
   "execution_count": 1,
   "id": "7b927c2a",
   "metadata": {},
   "outputs": [
    {
     "name": "stdout",
     "output_type": "stream",
     "text": [
      "0\n",
      "1\n",
      "2\n",
      "3\n",
      "4\n",
      "5\n",
      "6\n",
      "7\n",
      "8\n",
      "9\n"
     ]
    }
   ],
   "source": [
    "for i in range(10):\n",
    "    print(i)"
   ]
  },
  {
   "cell_type": "code",
   "execution_count": 3,
   "id": "e28c792c",
   "metadata": {},
   "outputs": [
    {
     "name": "stdout",
     "output_type": "stream",
     "text": [
      "[0, 1, 2, 3, 4, 5, 6, 7, 8, 9]\n"
     ]
    }
   ],
   "source": [
    "a=[]\n",
    "for i in range(10):\n",
    "    a.append(i)\n",
    "print(a)\n"
   ]
  },
  {
   "cell_type": "code",
   "execution_count": 6,
   "id": "05a230b8",
   "metadata": {},
   "outputs": [
    {
     "name": "stdout",
     "output_type": "stream",
     "text": [
      "one 1\n",
      "two 2\n",
      "three 3\n",
      "three 3\n"
     ]
    }
   ],
   "source": [
    "a = {\"one\":1, \"two\":2, \"three\":3}\n",
    "for k,v in a.items():\n",
    "    print(k,v)"
   ]
  },
  {
   "cell_type": "code",
   "execution_count": 8,
   "id": "99d01512",
   "metadata": {},
   "outputs": [
    {
     "name": "stdout",
     "output_type": "stream",
     "text": [
      "5\n"
     ]
    }
   ],
   "source": [
    "#UNDERSTANDING FUNCTIONS\n",
    "def total(a,b):\n",
    "    return(a+b)\n",
    "c = total(2,3)\n",
    "print(c)"
   ]
  },
  {
   "cell_type": "code",
   "execution_count": 11,
   "id": "59a3b2d0",
   "metadata": {},
   "outputs": [
    {
     "name": "stdout",
     "output_type": "stream",
     "text": [
      "6.0\n"
     ]
    }
   ],
   "source": [
    "def tot(b,c,d):\n",
    "    a = ((b*c)/d)\n",
    "    return(a)\n",
    "print(tot(3,2,1))"
   ]
  },
  {
   "cell_type": "code",
   "execution_count": 16,
   "id": "f5818977",
   "metadata": {},
   "outputs": [
    {
     "name": "stdout",
     "output_type": "stream",
     "text": [
      "[0, 2, 4, 6, 8, 10, 12, 14, 16, 18, 20]\n"
     ]
    }
   ],
   "source": [
    "#Write a funtion to get even numbers between 0 to 20\n",
    "a=[]\n",
    "for i in range(21):\n",
    "    if i%2==0:\n",
    "        a.append(i)\n",
    "print(a)"
   ]
  },
  {
   "cell_type": "code",
   "execution_count": 30,
   "id": "b8cc767e",
   "metadata": {},
   "outputs": [
    {
     "data": {
      "text/plain": [
       "[0, 2, 4, 6, 8, 10, 12, 14, 16, 18]"
      ]
     },
     "execution_count": 30,
     "metadata": {},
     "output_type": "execute_result"
    }
   ],
   "source": [
    "def even(q):\n",
    "    a=[]\n",
    "    for num in range(q):\n",
    "        if(num%2==0):\n",
    "            a.append(num)\n",
    "    return(a)\n",
    "even(20)"
   ]
  },
  {
   "cell_type": "code",
   "execution_count": 3,
   "id": "ab139a08",
   "metadata": {},
   "outputs": [
    {
     "name": "stdout",
     "output_type": "stream",
     "text": [
      "Value of a is 10\n",
      "Value of b is 20\n",
      "Value of a is 99\n",
      "Value of b is 100\n",
      "Value of a is 10\n",
      "Value of b is 12\n"
     ]
    }
   ],
   "source": [
    "#Positional argument followed by keyword argument\n",
    "def test(a,b):\n",
    "    print(\"Value of a is\", a)\n",
    "    print(\"Value of b is\", b)\n",
    "test(10,20)\n",
    "test(99,100)\n",
    "test(10,b=12)"
   ]
  },
  {
   "cell_type": "code",
   "execution_count": 94,
   "id": "4cacfa02",
   "metadata": {},
   "outputs": [
    {
     "name": "stdout",
     "output_type": "stream",
     "text": [
      "Yoga   Sree\n"
     ]
    }
   ],
   "source": [
    "def name(F_name = None,M_name = None,L_name = None):\n",
    "    print(F_name,M_name,L_name)\n",
    "name(\"Yoga\",\" \",\"Sree\")"
   ]
  },
  {
   "cell_type": "code",
   "execution_count": 95,
   "id": "79a3a762",
   "metadata": {},
   "outputs": [
    {
     "data": {
      "text/plain": [
       "4.0"
      ]
     },
     "execution_count": 95,
     "metadata": {},
     "output_type": "execute_result"
    }
   ],
   "source": [
    "def num(a,b=1,c=1):\n",
    "    d = a*b\n",
    "    fin = d/c\n",
    "    return fin\n",
    "num(4)"
   ]
  },
  {
   "cell_type": "code",
   "execution_count": 31,
   "id": "b8c03cdc",
   "metadata": {},
   "outputs": [
    {
     "name": "stdout",
     "output_type": "stream",
     "text": [
      "hi\n"
     ]
    }
   ],
   "source": [
    "#Local and global variables\n",
    "def local():\n",
    "    wel = \"hi\"\n",
    "    print(wel)\n",
    "local()\n",
    "#print(wel)"
   ]
  },
  {
   "cell_type": "code",
   "execution_count": 34,
   "id": "f43c7c86",
   "metadata": {},
   "outputs": [
    {
     "name": "stdout",
     "output_type": "stream",
     "text": [
      "hi\n",
      "hi\n"
     ]
    }
   ],
   "source": [
    "#converting local variable into global variable\n",
    "def gl():\n",
    "    global wel\n",
    "    wel = \"hi\"\n",
    "    print(wel)\n",
    "gl()\n",
    "print(wel)\n",
    "\n",
    "    \n",
    "\n",
    "\n",
    "        \n",
    "\n",
    "    \n",
    "\n",
    "        \n",
    "    \n",
    "   \n",
    "    "
   ]
  },
  {
   "cell_type": "code",
   "execution_count": 35,
   "id": "7d288ded",
   "metadata": {},
   "outputs": [
    {
     "name": "stdout",
     "output_type": "stream",
     "text": [
      "hi\n",
      "hello\n"
     ]
    }
   ],
   "source": [
    "#Local and Global variable\n",
    "wel = \"hello\"\n",
    "def log():\n",
    "    wel=\"hi\"\n",
    "    print(wel)\n",
    "log()\n",
    "print(wel)"
   ]
  },
  {
   "cell_type": "code",
   "execution_count": 37,
   "id": "24d1cf6a",
   "metadata": {},
   "outputs": [
    {
     "data": {
      "text/plain": [
       "(1, 2, 3, 4, 5)"
      ]
     },
     "execution_count": 37,
     "metadata": {},
     "output_type": "execute_result"
    }
   ],
   "source": [
    "#when number of arguments is not known - for positional argument - returns tuples\n",
    "def test(*args):\n",
    "    return args\n",
    "test(1,2,3,4,5)"
   ]
  },
  {
   "cell_type": "code",
   "execution_count": 40,
   "id": "ded8c315",
   "metadata": {},
   "outputs": [
    {
     "name": "stdout",
     "output_type": "stream",
     "text": [
      "{'fname': 'Yoga', 'mname': 'Sree', 'lname': 'Durga'}\n"
     ]
    }
   ],
   "source": [
    "#when number of arguments is not known - for keyword argument - returns dictionary\n",
    "def test(**kwargs):\n",
    "    print(kwargs)\n",
    "test(fname = \"Yoga\",mname = \"Sree\",lname = \"Durga\")"
   ]
  },
  {
   "cell_type": "code",
   "execution_count": 41,
   "id": "801a2424",
   "metadata": {},
   "outputs": [
    {
     "data": {
      "text/plain": [
       "4"
      ]
     },
     "execution_count": 41,
     "metadata": {},
     "output_type": "execute_result"
    }
   ],
   "source": [
    "var = lambda a, b : a+b\n",
    "var(3,1)"
   ]
  },
  {
   "cell_type": "code",
   "execution_count": 1,
   "id": "69eed3d7",
   "metadata": {},
   "outputs": [],
   "source": [
    "#assert function - to stop a code from executing and voluntarily throw error"
   ]
  },
  {
   "cell_type": "code",
   "execution_count": null,
   "id": "3dc6c3df",
   "metadata": {},
   "outputs": [],
   "source": []
  }
 ],
 "metadata": {
  "kernelspec": {
   "display_name": "Python 3 (ipykernel)",
   "language": "python",
   "name": "python3"
  },
  "language_info": {
   "codemirror_mode": {
    "name": "ipython",
    "version": 3
   },
   "file_extension": ".py",
   "mimetype": "text/x-python",
   "name": "python",
   "nbconvert_exporter": "python",
   "pygments_lexer": "ipython3",
   "version": "3.9.12"
  }
 },
 "nbformat": 4,
 "nbformat_minor": 5
}
