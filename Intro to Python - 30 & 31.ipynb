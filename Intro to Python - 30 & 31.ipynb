{
 "cells": [
  {
   "cell_type": "code",
   "execution_count": 2,
   "id": "75fbf1e7",
   "metadata": {},
   "outputs": [
    {
     "name": "stdout",
     "output_type": "stream",
     "text": [
      "Hello \n",
      " Welcome to Python \n",
      " Its fun learning with Python\n"
     ]
    }
   ],
   "source": [
    "#INTRODUCTION TO PYTHON - DATA TYPES,VARIABLES,STRING,STRING OPERATIONS\n",
    "\"\"\"UNDERSTANDING VARIABLES\"\"\"\n",
    "#Using \\n to enter a new line\n",
    "print(\"Hello \\n Welcome to Python \\n Its fun learning with Python\")"
   ]
  },
  {
   "cell_type": "code",
   "execution_count": 3,
   "id": "3cde2a93",
   "metadata": {},
   "outputs": [
    {
     "name": "stdout",
     "output_type": "stream",
     "text": [
      "Hello \t Welcome\n"
     ]
    }
   ],
   "source": [
    "#Using \\t to enter tab\n",
    "print(\"Hello \\t Welcome\")"
   ]
  },
  {
   "cell_type": "code",
   "execution_count": 6,
   "id": "5dfedacc",
   "metadata": {},
   "outputs": [
    {
     "name": "stdout",
     "output_type": "stream",
     "text": [
      "enter a number:10\n",
      "10\n"
     ]
    }
   ],
   "source": [
    "#Understanding a variable\n",
    "a = input(\"enter a number:\")\n",
    "print(a)\n",
    "#variable name cannot start with number'\n",
    "#variable name cannot contain special characters"
   ]
  },
  {
   "cell_type": "code",
   "execution_count": 10,
   "id": "c8989a0c",
   "metadata": {},
   "outputs": [
    {
     "name": "stdout",
     "output_type": "stream",
     "text": [
      "yoga\n",
      "<class 'str'>\n",
      "True\n",
      "12\n",
      "<class 'int'>\n",
      "True\n"
     ]
    }
   ],
   "source": [
    "\"\"\"INTRODUCTION TO DATATYPES\"\"\"\n",
    "name = \"yoga\"\n",
    "print(name)\n",
    "print(type(name))\n",
    "print(isinstance(name,str))\n",
    "name = 12\n",
    "print(name)\n",
    "print(type(name))\n",
    "print(isinstance(name,int))"
   ]
  },
  {
   "cell_type": "code",
   "execution_count": 8,
   "id": "50832e08",
   "metadata": {},
   "outputs": [
    {
     "name": "stdout",
     "output_type": "stream",
     "text": [
      "5\n",
      "o\n",
      "e\n",
      "['e', 'h', 'l', 'l', 'o']\n",
      "2\n",
      "Z\n",
      "a\n",
      "False\n",
      "False\n",
      "False\n",
      "False\n",
      "False\n",
      "YOGA SREE\n",
      "yoga sree\n",
      "yOGA sREE\n"
     ]
    }
   ],
   "source": [
    "\"\"\"STRINGS\"\"\"\n",
    "a = \"hello\"\n",
    "print(len(a))\n",
    "print(max(a))\n",
    "print(min(a))\n",
    "print(sorted(a))\n",
    "#each input is stored as an ASCII value in the backend, so Python sorts based on the ASCII code of each character\n",
    "a = \"aZ\"\n",
    "print(len(a))\n",
    "print(min(a))\n",
    "print(max(a))\n",
    "a = \"Yoga Sree\"\n",
    "print(a.isupper())\n",
    "print(a.islower())\n",
    "print(a.isdigit())\n",
    "print(a.isalpha())\n",
    "print(a.isalnum())\n",
    "print(a.upper())\n",
    "print(a.lower())\n",
    "print(a.swapcase())"
   ]
  },
  {
   "cell_type": "code",
   "execution_count": 23,
   "id": "c758fcc8",
   "metadata": {},
   "outputs": [
    {
     "name": "stdout",
     "output_type": "stream",
     "text": [
      "w\n",
      "e\n",
      "welco\n",
      "wlo\n",
      "!\n",
      "on!!\n",
      "!!!nohtyp ot emoclew\n",
      "20\n",
      "wloet yhn!\n",
      "1\n",
      "0\n",
      "19\n",
      "19\n",
      "3\n",
      "7\n"
     ]
    }
   ],
   "source": [
    "\"\"\"INDEXING - FORWARD & REVERSE INDEXING\"\"\"\n",
    "#FORWARD INDEXING\n",
    "a = \"welcome\"\n",
    "print(a[0])\n",
    "print(a[1])\n",
    "print(a[0:5])#[start_val:end_val]\n",
    "print(a[0:5:2])#[start_val:end_val:step_val]\n",
    "#REVERSE INDEXING\n",
    "a = \"welcome to python!!!\"\n",
    "print(a[-1])\n",
    "print(a[-5:-1:1])\n",
    "\"\"\"INTERVIEW QUESTION - HOW TO REVERSE A STRING\"\"\"\n",
    "print(a[::-1])\n",
    "\"\"\"HOW TO FIND THE END VALUE OF STRING - to include in the range\"\"\"\n",
    "print(len(a))\n",
    "print(a[0:21:2])\n",
    "\"\"\"HOW TO FIND INDEX OF A STRING ELEMENT\"\"\"\n",
    "print(a.index(\"e\"))\n",
    "print(a.index(\"w\",0,10))\n",
    "print(a.index(\"!\",-1))\n",
    "print(a.rindex(\"!\",-1))\n",
    "a = \"yogayoga\"\n",
    "print(a.index(\"a\"))#starts counting from a[0]\n",
    "print(a.rindex(\"a\"))#starts counting from a[-1]"
   ]
  },
  {
   "cell_type": "code",
   "execution_count": 12,
   "id": "64c3ef59",
   "metadata": {},
   "outputs": [
    {
     "name": "stdout",
     "output_type": "stream",
     "text": [
      "4\n",
      "15\n"
     ]
    }
   ],
   "source": [
    "#USING FIND AND RFIND\n",
    "#FIND\n",
    "a = \"Today is Tuesday\"\n",
    "print(a.find(\"y\"))\n",
    "print(a.rfind(\"y\"))\n"
   ]
  },
  {
   "cell_type": "code",
   "execution_count": 21,
   "id": "55b81c8e",
   "metadata": {},
   "outputs": [
    {
     "name": "stdout",
     "output_type": "stream",
     "text": [
      "['sree2632', 'gmail.com']\n",
      "yoga@gmail.com\n",
      "Good Evening\n"
     ]
    }
   ],
   "source": [
    "#USING SPLIT\n",
    "a = \"sree2632@gmail.com\"\n",
    "#b = (a.split(\"@\"))\n",
    "print(b)\n",
    "#print(b[0])\n",
    "#USING REPLACE\n",
    "print(a.replace(\"sree2632\",\"yoga\"))\n",
    "a = \"Good Morning\"\n",
    "print(a.replace(\"Morning\",\"Evening\"))\n",
    "#INTERVIEW Question\n",
    "a = \"shanmugam@yahoo.com\"\n"
   ]
  },
  {
   "cell_type": "code",
   "execution_count": 22,
   "id": "d755fe44",
   "metadata": {},
   "outputs": [
    {
     "name": "stdout",
     "output_type": "stream",
     "text": [
      "5\n"
     ]
    }
   ],
   "source": [
    "#USING COUNT\n",
    "a = \"abracadabra\"\n",
    "print(a.count(\"a\"))"
   ]
  },
  {
   "cell_type": "code",
   "execution_count": 28,
   "id": "137f9bd6",
   "metadata": {},
   "outputs": [
    {
     "name": "stdout",
     "output_type": "stream",
     "text": [
      "False\n",
      "True\n"
     ]
    }
   ],
   "source": [
    "#USING STARTSWITH & ENDSWITH\n",
    "a = \"beware\"\n",
    "print(a.startswith(\"c\"))\n",
    "print(a.endswith(\"re\"))"
   ]
  },
  {
   "cell_type": "code",
   "execution_count": 29,
   "id": "35a1186b",
   "metadata": {},
   "outputs": [
    {
     "name": "stdout",
     "output_type": "stream",
     "text": [
      "WelcometoPython\n"
     ]
    }
   ],
   "source": [
    "#HOW TO REMOVE SPACES - INTERVIEW QUESTION\n",
    "a = \"Welcome to Python\"\n",
    "print(a.replace(\" \",\"\"))\n"
   ]
  },
  {
   "cell_type": "code",
   "execution_count": 31,
   "id": "f30b1d0f",
   "metadata": {},
   "outputs": [
    {
     "name": "stdout",
     "output_type": "stream",
     "text": [
      "<class 'int'>\n",
      "12.0\n",
      "0b1100\n",
      "0xc\n",
      "0o14\n"
     ]
    }
   ],
   "source": [
    "#INTEGERS,FLOATS,BINARY,HEXADECIMAL,DECIMAL,OCTAGEN\n",
    "a = 12\n",
    "print(type(a))\n",
    "print(float(a))\n",
    "print(bin(a))\n",
    "print(hex(a))\n",
    "print(oct(a))"
   ]
  },
  {
   "cell_type": "code",
   "execution_count": null,
   "id": "5f026371",
   "metadata": {},
   "outputs": [],
   "source": []
  },
  {
   "cell_type": "code",
   "execution_count": null,
   "id": "84673f43",
   "metadata": {},
   "outputs": [],
   "source": []
  }
 ],
 "metadata": {
  "kernelspec": {
   "display_name": "Python 3 (ipykernel)",
   "language": "python",
   "name": "python3"
  },
  "language_info": {
   "codemirror_mode": {
    "name": "ipython",
    "version": 3
   },
   "file_extension": ".py",
   "mimetype": "text/x-python",
   "name": "python",
   "nbconvert_exporter": "python",
   "pygments_lexer": "ipython3",
   "version": "3.9.12"
  }
 },
 "nbformat": 4,
 "nbformat_minor": 5
}
