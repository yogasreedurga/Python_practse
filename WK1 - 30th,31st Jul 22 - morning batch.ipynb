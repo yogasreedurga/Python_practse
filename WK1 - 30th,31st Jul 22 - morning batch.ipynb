{
 "cells": [
  {
   "cell_type": "code",
   "execution_count": 7,
   "id": "b38d782d",
   "metadata": {},
   "outputs": [
    {
     "name": "stdout",
     "output_type": "stream",
     "text": [
      "Hello \n",
      " this \t is my first class\n",
      "welcome\n",
      "saturday\n"
     ]
    }
   ],
   "source": [
    "print(\"Hello \\n this \\t is my first class\")\n",
    "#this is example for comment\n",
    "print(\"welcome\")\n",
    "print(\"hi\")\n",
    "print(\"saturday\")\n",
    "\n",
    "\n",
    "\n"
   ]
  },
  {
   "cell_type": "code",
   "execution_count": 10,
   "id": "137e685b",
   "metadata": {},
   "outputs": [
    {
     "name": "stdout",
     "output_type": "stream",
     "text": [
      "enter a number:1921\n",
      "1921\n"
     ]
    }
   ],
   "source": [
    "#understanding a variable\n",
    "a = input(\"enter a number:\")\n",
    "print(a)\n",
    "#variable name should not start with a number\n",
    "#variable name should not have a special character except for _\n"
   ]
  },
  {
   "cell_type": "code",
   "execution_count": 16,
   "id": "3e4aba2f",
   "metadata": {},
   "outputs": [
    {
     "name": "stdout",
     "output_type": "stream",
     "text": [
      "<class 'str'>\n",
      "<class 'int'>\n",
      "True\n",
      "False\n"
     ]
    }
   ],
   "source": [
    "#understanding data types\n",
    "name = \"yoga\"\n",
    "print(type(name))\n",
    "val = 12\n",
    "print(type(val))\n",
    "print(isinstance(name,str))\n",
    "print(isinstance(name,int))"
   ]
  },
  {
   "cell_type": "code",
   "execution_count": 2,
   "id": "7460ea01",
   "metadata": {},
   "outputs": [
    {
     "name": "stdout",
     "output_type": "stream",
     "text": [
      "hello\n",
      "5\n",
      "e\n",
      "o\n",
      "['e', 'h', 'l', 'l', 'o']\n",
      "Z\n",
      "a\n",
      "GOOD DAY\n",
      "good day\n",
      "gOOD dAY\n",
      "True\n",
      "False\n",
      "False\n",
      "False\n",
      "True\n"
     ]
    }
   ],
   "source": [
    "#strings\n",
    "a=\"hello\"\n",
    "print(a)\n",
    "print(len(a))\n",
    "print(min(a))\n",
    "print(max(a))\n",
    "print(sorted(a))\n",
    "#each number is stored as an ASCII code with A-Z having codes from 65 to 90 and a-z has code starting from 97 to 122\n",
    "a=\"aZ\"\n",
    "print(min(a))\n",
    "print(max(a))\n",
    "a = \"Good Day\"\n",
    "print(a.upper())\n",
    "print(a.lower())\n",
    "print(a.swapcase())\n",
    "a = \"TEST\"\n",
    "print(a.isupper())\n",
    "print(a.islower())\n",
    "a = \"test123\"\n",
    "print(a.isdigit())\n",
    "print(a.isalpha())\n",
    "print(a.isalnum())"
   ]
  },
  {
   "cell_type": "code",
   "execution_count": 4,
   "id": "d2eba2ce",
   "metadata": {},
   "outputs": [
    {
     "name": "stdout",
     "output_type": "stream",
     "text": [
      "w\n",
      "e\n",
      "e\n",
      "m\n",
      "wloet yhnfrtca\n",
      "ssalc tsrif nohtyp ot emoclew\n"
     ]
    }
   ],
   "source": [
    "#indexing\n",
    "#forward indexing\n",
    "a='welcome'\n",
    "print(a[0])\n",
    "print(a[1])\n",
    "#reverse indexing\n",
    "print(a[-1])\n",
    "print(a[-2])\n",
    "#range of values\n",
    "a='welcome to python first class'\n",
    "print(a[0:-1:2])#[start_val:end_val:step_val]\n",
    "#how to reverse a string\n",
    "print(a[::-1])#interview question"
   ]
  },
  {
   "cell_type": "code",
   "execution_count": 10,
   "id": "ad35a05e",
   "metadata": {},
   "outputs": [
    {
     "name": "stdout",
     "output_type": "stream",
     "text": [
      "Miss yo\n",
      "8\n",
      "Miss you\n"
     ]
    }
   ],
   "source": [
    "b = \"Miss you\"\n",
    "print(b[0:-1:1])\n",
    "print(len(b))\n",
    "print(b[0:8:1])#to include the last valur find the length of string and use in the syntax for range"
   ]
  },
  {
   "cell_type": "code",
   "execution_count": 12,
   "id": "8e3e4229",
   "metadata": {},
   "outputs": [
    {
     "name": "stdout",
     "output_type": "stream",
     "text": [
      "4\n",
      "6\n",
      "5\n",
      "11\n",
      "8\n"
     ]
    }
   ],
   "source": [
    "#How to find the index\n",
    "a = \"Sundayclass\"\n",
    "print(a.index(\"a\"))\n",
    "print(a.index(\"c\",2))# syntax(var.index(search_val,start_ind))\n",
    "print(a.index(\"y\",-7,-1))# syntax(var.index(search_val,start_ind,end_val))\n",
    "print(len(a))\n",
    "print(a.rindex(\"a\"))\n",
    "#print(a.index(\"e\"))-returns error if search_val not found\n"
   ]
  },
  {
   "cell_type": "code",
   "execution_count": 10,
   "id": "ca825ecc",
   "metadata": {},
   "outputs": [
    {
     "name": "stdout",
     "output_type": "stream",
     "text": [
      "4\n",
      "0\n",
      "-1\n"
     ]
    }
   ],
   "source": [
    "#Using find\n",
    "print(a.find(\"a\"))\n",
    "print(a.rfind(\"S\"))\n",
    "print(a.find(\"e\"))#returns -1 if the search_val is not found"
   ]
  },
  {
   "cell_type": "code",
   "execution_count": 16,
   "id": "b7d2fb5e",
   "metadata": {},
   "outputs": [
    {
     "name": "stdout",
     "output_type": "stream",
     "text": [
      "['besant', 'gmail.com']\n",
      "besant\n"
     ]
    }
   ],
   "source": [
    "#Using split\n",
    "a=\"besant@gmail.com\"\n",
    "print(a.split(\"@\"))\n",
    "b = (a.split(\"@\"))\n",
    "print(b[0])\n"
   ]
  },
  {
   "cell_type": "code",
   "execution_count": 21,
   "id": "52cc6000",
   "metadata": {},
   "outputs": [
    {
     "name": "stdout",
     "output_type": "stream",
     "text": [
      "yoga@gmail.com\n",
      "2\n",
      "True\n",
      "True\n",
      "False\n",
      "False\n"
     ]
    }
   ],
   "source": [
    "#using replace\n",
    "print(a.replace(\"besant\",\"yoga\"))\n",
    "#using count\n",
    "print(a.count(\"a\"))\n",
    "#using startswith and ends with\n",
    "print(a.startswith(\"be\"))\n",
    "print(a.endswith(\"om\"))\n",
    "print(a.endswith(\"be\"))\n",
    "print(a.startswith(\"om\"))\n",
    "#removing spaces\n",
    "a = \"Welcome to my class\"\n",
    "print(a.replace(\" \",\"\"))"
   ]
  },
  {
   "cell_type": "code",
   "execution_count": 25,
   "id": "bf260ec7",
   "metadata": {},
   "outputs": [
    {
     "name": "stdout",
     "output_type": "stream",
     "text": [
      "True\n",
      "<class 'int'>\n",
      "0o14\n",
      "0b1100\n",
      "12.0\n",
      "0xc\n"
     ]
    }
   ],
   "source": [
    "#Understanding Integers,Floats,hex,oct,bin\n",
    "a = 12\n",
    "print(isinstance(a,int))\n",
    "print(type(a))\n",
    "print(oct(a))\n",
    "print(bin(a))\n",
    "print(float(a))\n",
    "print(hex(a))"
   ]
  },
  {
   "cell_type": "code",
   "execution_count": 26,
   "id": "db313377",
   "metadata": {},
   "outputs": [
    {
     "name": "stdout",
     "output_type": "stream",
     "text": [
      "<class 'list'>\n",
      "True\n",
      "kriya\n",
      "Sivakasi\n"
     ]
    }
   ],
   "source": [
    "#Understanding lists - lists are created to save the namespace that we declare for indiv variables\n",
    "a = [\"kriya\", 6, \"Sivakasi\"]\n",
    "print(type(a))\n",
    "print(isinstance(a,list))\n",
    "print(a[0])\n",
    "print(a[-1])"
   ]
  },
  {
   "cell_type": "code",
   "execution_count": 29,
   "id": "674cdfc9",
   "metadata": {},
   "outputs": [
    {
     "name": "stdout",
     "output_type": "stream",
     "text": [
      "kriya\n",
      "6\n",
      "3\n",
      "['6', 'Sivakasi', 'kriya']\n"
     ]
    }
   ],
   "source": [
    "a = [\"kriya\", 6, \"Sivakasi\"]\n",
    "#print(max(a))- throws error as datatypes of each values are different\n",
    "a = [\"kriya\", \"6\", \"Sivakasi\"]\n",
    "print(max(a))\n",
    "print(min(a))\n",
    "print(len(a))\n",
    "print(sorted(a))"
   ]
  },
  {
   "cell_type": "code",
   "execution_count": 42,
   "id": "844694e9",
   "metadata": {},
   "outputs": [],
   "source": [
    "#difference between append,insert and extend\n",
    "y = [1,2,3]\n",
    "k = [4,5,6]\n",
    "#y.append(k)\n",
    "#b= print(y)\n",
    "#y.insert(k)\n",
    "#c= print(y)"
   ]
  },
  {
   "cell_type": "code",
   "execution_count": 46,
   "id": "c3ec41d7",
   "metadata": {},
   "outputs": [
    {
     "name": "stdout",
     "output_type": "stream",
     "text": [
      "[1, 3, 4, 5, 6]\n",
      "[1, 3, 5, 6]\n",
      "[1, 3, 5]\n"
     ]
    }
   ],
   "source": [
    "#Using remove - removes the element based on value\n",
    "a = [1,2,3,4,5,6]\n",
    "a.remove(2)\n",
    "print(a)\n",
    "#Using del- removes the element based on the index of the value\n",
    "del a[2]\n",
    "print(a)\n",
    "#Using pop - removes the last element from list\n",
    "a.pop()\n",
    "print(a)"
   ]
  },
  {
   "cell_type": "code",
   "execution_count": 49,
   "id": "eda10f02",
   "metadata": {},
   "outputs": [
    {
     "name": "stdout",
     "output_type": "stream",
     "text": [
      "<class 'tuple'>\n",
      "True\n"
     ]
    }
   ],
   "source": [
    "#Understanding tuples \n",
    "a = (1,2,3,4,5)\n",
    "#tuples are immutable - they cannot be edited - cannot be appended, cannot remove elements\n",
    "#a.append(10)- throws error\n",
    "print(type(a))\n",
    "print(isinstance(a,tuple))\n",
    "\n"
   ]
  },
  {
   "cell_type": "code",
   "execution_count": null,
   "id": "211619a3",
   "metadata": {},
   "outputs": [],
   "source": []
  },
  {
   "cell_type": "code",
   "execution_count": null,
   "id": "dfe7f9ad",
   "metadata": {},
   "outputs": [],
   "source": []
  },
  {
   "cell_type": "code",
   "execution_count": null,
   "id": "14f9cc95",
   "metadata": {},
   "outputs": [],
   "source": []
  }
 ],
 "metadata": {
  "kernelspec": {
   "display_name": "Python 3 (ipykernel)",
   "language": "python",
   "name": "python3"
  },
  "language_info": {
   "codemirror_mode": {
    "name": "ipython",
    "version": 3
   },
   "file_extension": ".py",
   "mimetype": "text/x-python",
   "name": "python",
   "nbconvert_exporter": "python",
   "pygments_lexer": "ipython3",
   "version": "3.9.12"
  }
 },
 "nbformat": 4,
 "nbformat_minor": 5
}
