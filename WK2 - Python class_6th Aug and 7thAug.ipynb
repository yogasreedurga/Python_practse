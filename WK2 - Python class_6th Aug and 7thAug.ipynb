{
 "cells": [
  {
   "cell_type": "code",
   "execution_count": 5,
   "id": "0506c3c9",
   "metadata": {},
   "outputs": [
    {
     "name": "stdout",
     "output_type": "stream",
     "text": [
      "dict_items([('name', 'yoga'), ('age', 12), ('loc', 'chennai')])\n",
      "dict_keys(['name', 'age', 'loc'])\n",
      "dict_values(['yoga', 12, 'chennai'])\n",
      "{1, 2, 3, 4, 5, 6}\n",
      "<class 'set'>\n",
      "{1, 2, 3, 4, 5, 6, 7}\n",
      "{1, 2, 3, 4, 5, 6}\n",
      "{2, 3, 4, 5, 6}\n",
      "{3, 7, 8, 10}\n"
     ]
    }
   ],
   "source": [
    "#Understanding dictionaries\n",
    "b = {\"name\": \"yoga\",\"age\": 12,\"loc\": \"chennai\"}\n",
    "print(b.items())\n",
    "print(b.keys())\n",
    "print(b.values())\n",
    "#get(b.items())\n",
    "#Understanding sets\n",
    "a = {1,2,3,4,5,6,6,6,6,6,6}\n",
    "print(a) \n",
    "print(type(a))#interview question - how to remove duplicates\n",
    "a.add(7)\n",
    "print(a)\n",
    "a.remove(7)\n",
    "print(a)\n",
    "a.pop()\n",
    "print(a)\n",
    "a = {10,3,7,8,2}\n",
    "a.pop()\n",
    "print(a)"
   ]
  },
  {
   "cell_type": "code",
   "execution_count": 12,
   "id": "a4b16e8a",
   "metadata": {},
   "outputs": [
    {
     "name": "stdout",
     "output_type": "stream",
     "text": [
      "{1, 2, 3, 4, 5, 6, 7}\n",
      "{4, 5}\n",
      "{1, 2, 3}\n"
     ]
    }
   ],
   "source": [
    "a = {1,2,3,4,5}\n",
    "b = {4,5,6,7}\n",
    "print(a.union(b))#combines both sets eliminating the duplicates\n",
    "print(a.intersection(b))#gets the common values btwn two sets\n",
    "print(a.difference(b))#ignores the common values and gives the unique values of the set\n"
   ]
  },
  {
   "cell_type": "code",
   "execution_count": 21,
   "id": "f8a7a448",
   "metadata": {},
   "outputs": [
    {
     "name": "stdout",
     "output_type": "stream",
     "text": [
      "6\n",
      "2\n",
      "8\n",
      "2.0\n",
      "0\n",
      "2\n"
     ]
    }
   ],
   "source": [
    "#ARITHMETIC OPERATORS\n",
    "a = 4\n",
    "b = 2\n",
    "print(a+b)\n",
    "print(a-b)\n",
    "print(a*b)\n",
    "print(a/b)\n",
    "print(a%b)\n",
    "print(a//b)\n",
    "\n"
   ]
  },
  {
   "cell_type": "code",
   "execution_count": 19,
   "id": "5e7d511f",
   "metadata": {},
   "outputs": [
    {
     "name": "stdout",
     "output_type": "stream",
     "text": [
      "False\n",
      "True\n",
      "True\n",
      "True\n",
      "False\n",
      "False\n"
     ]
    }
   ],
   "source": [
    "#RELATIONAL OPERATOR\n",
    "print(a==b)\n",
    "print(a!=b)\n",
    "print(a>b)\n",
    "print(a>=b)\n",
    "print(a<b)\n",
    "print(a<=b)"
   ]
  },
  {
   "cell_type": "code",
   "execution_count": 20,
   "id": "38b0e232",
   "metadata": {},
   "outputs": [
    {
     "name": "stdout",
     "output_type": "stream",
     "text": [
      "10\n",
      "5\n"
     ]
    }
   ],
   "source": [
    "#ASSIGNMENT OPERATOR\n",
    "a = 10\n",
    "b = 5 \n",
    "print(a)\n",
    "print(b)"
   ]
  },
  {
   "cell_type": "code",
   "execution_count": 22,
   "id": "d7d571ea",
   "metadata": {},
   "outputs": [
    {
     "name": "stdout",
     "output_type": "stream",
     "text": [
      "True\n",
      "False\n",
      "False\n",
      "True\n"
     ]
    }
   ],
   "source": [
    "#LOGICAL OPERATOR\n",
    "print(True and True)\n",
    "print(True and False)\n",
    "print(not True)\n",
    "print(not False)"
   ]
  },
  {
   "cell_type": "code",
   "execution_count": 26,
   "id": "3c3b4954",
   "metadata": {},
   "outputs": [
    {
     "name": "stdout",
     "output_type": "stream",
     "text": [
      "yes\n"
     ]
    }
   ],
   "source": [
    "#CONDITIONALS\n",
    "#if_else condition\n",
    "name = \"yoga\"\n",
    "loc = \"chennai\"\n",
    "if name == \"yoga\" and loc == \"chennai\":\n",
    "    print(\"yes\")\n",
    "else:\n",
    "    print(\"no\")\n"
   ]
  },
  {
   "cell_type": "code",
   "execution_count": 28,
   "id": "7429c773",
   "metadata": {},
   "outputs": [
    {
     "name": "stdout",
     "output_type": "stream",
     "text": [
      "in madurai\n"
     ]
    }
   ],
   "source": [
    "#elif condition\n",
    "loc = \"madurai\"\n",
    "if name == \"yoga\" and loc == \"chennai\":\n",
    "    print(\"in chennai\")\n",
    "elif name == \"yoga\" and loc == \"madurai\":\n",
    "    print(\"in madurai\")\n",
    "else:\n",
    "    print(\"no\")\n"
   ]
  },
  {
   "cell_type": "code",
   "execution_count": 32,
   "id": "598461c0",
   "metadata": {},
   "outputs": [
    {
     "name": "stdout",
     "output_type": "stream",
     "text": [
      "1\n",
      "2\n",
      "3\n",
      "4\n",
      "5\n",
      "6\n"
     ]
    }
   ],
   "source": [
    "#for condition\n",
    "a = [1,2,3,4,5,6]\n",
    "for i in a:\n",
    "    print(i)"
   ]
  },
  {
   "cell_type": "code",
   "execution_count": 33,
   "id": "ae2a0ae2",
   "metadata": {},
   "outputs": [
    {
     "name": "stdout",
     "output_type": "stream",
     "text": [
      "0\n",
      "1\n",
      "2\n",
      "3\n",
      "4\n",
      "5\n",
      "6\n",
      "7\n",
      "8\n",
      "9\n"
     ]
    }
   ],
   "source": [
    "for i in range(10):\n",
    "    print(i)"
   ]
  },
  {
   "cell_type": "code",
   "execution_count": 1,
   "id": "778a723b",
   "metadata": {},
   "outputs": [
    {
     "name": "stdout",
     "output_type": "stream",
     "text": [
      "[0, 2, 4, 6, 8]\n",
      "[0, 2, 4, 6, 8]\n"
     ]
    }
   ],
   "source": [
    "#printing an even number using for loop\n",
    "a = []\n",
    "for i in range(0,10,2):\n",
    "        a.append(i)\n",
    "        #print(a)\n",
    "print(a)\n",
    "#another method - using if loop\n",
    "a = []\n",
    "for i in range(10):\n",
    "    if i%2==0:\n",
    "        a.append(i)\n",
    "print(a)"
   ]
  },
  {
   "cell_type": "code",
   "execution_count": 7,
   "id": "ac9fb077",
   "metadata": {},
   "outputs": [],
   "source": [
    "#while loop\n",
    "a = 5\n",
    "while a<5:\n",
    "    print(a)\n",
    "    a = a+2\n",
    "    "
   ]
  },
  {
   "cell_type": "code",
   "execution_count": 8,
   "id": "40daaf57",
   "metadata": {},
   "outputs": [
    {
     "name": "stdout",
     "output_type": "stream",
     "text": [
      "one 1\n",
      "two 2\n",
      "three 3\n"
     ]
    }
   ],
   "source": [
    "a = {\"one\":1,\"two\":2,\"three\":3}\n",
    "for k,v in a.items():\n",
    "    print(k,v)"
   ]
  },
  {
   "cell_type": "code",
   "execution_count": 12,
   "id": "72cff76a",
   "metadata": {},
   "outputs": [
    {
     "name": "stdout",
     "output_type": "stream",
     "text": [
      "7\n"
     ]
    }
   ],
   "source": [
    "a = 3\n",
    "b = 4\n",
    "print(a+b)"
   ]
  },
  {
   "cell_type": "code",
   "execution_count": 13,
   "id": "c61bad14",
   "metadata": {},
   "outputs": [
    {
     "name": "stdout",
     "output_type": "stream",
     "text": [
      "6\n"
     ]
    }
   ],
   "source": [
    "a = 4\n",
    "b = 2\n",
    "print(a+b)"
   ]
  },
  {
   "cell_type": "code",
   "execution_count": 14,
   "id": "c86b6b85",
   "metadata": {},
   "outputs": [
    {
     "name": "stdout",
     "output_type": "stream",
     "text": [
      "4.0\n"
     ]
    }
   ],
   "source": [
    "#UNDERSTANDING FUNCTIONS\n",
    "def total(a,b,c,d):\n",
    "    return ((a+b)*c)/d\n",
    "result = total(4,8,2,6)\n",
    "print(result)\n"
   ]
  },
  {
   "cell_type": "code",
   "execution_count": 17,
   "id": "84a2a938",
   "metadata": {},
   "outputs": [
    {
     "name": "stdout",
     "output_type": "stream",
     "text": [
      "2.25\n"
     ]
    }
   ],
   "source": [
    "def tot(a,b,c,d):\n",
    "    res = a+b\n",
    "    res1 = res*c\n",
    "    final_result = res1/d\n",
    "    return final_result\n",
    "value = tot(1,2,3,4)\n",
    "print(value)"
   ]
  },
  {
   "cell_type": "code",
   "execution_count": 30,
   "id": "9a9bf2a7",
   "metadata": {},
   "outputs": [
    {
     "name": "stdout",
     "output_type": "stream",
     "text": [
      "value of a is 10\n",
      "value of b is 20\n",
      "value of a is 30\n",
      "value of b is 40\n",
      "value of a is 4\n",
      "value of b is 20\n"
     ]
    }
   ],
   "source": [
    "#Assignment : Write a function to get even numbers \n",
    "#Postion argument followed by keyword argument\n",
    "\n",
    "def test(a,b):\n",
    "    print(\"value of a is\",a)\n",
    "    print(\"value of b is\",b)\n",
    "test(10,20)\n",
    "test(30,40)\n",
    "test(a,b=20) \n",
    "   "
   ]
  },
  {
   "cell_type": "code",
   "execution_count": 31,
   "id": "a1a4d39c",
   "metadata": {},
   "outputs": [
    {
     "name": "stdout",
     "output_type": "stream",
     "text": [
      "yoga  sree\n"
     ]
    }
   ],
   "source": [
    "#postional arguments - takes the values declared as within the (),keyword arguments - takes the value assigned at the time of argument declared in()\n",
    "def name(f_name = None,m_name = None,l_name = None):\n",
    "    print(f_name,m_name,l_name)\n",
    "name(\"yoga\",\"\",\"sree\")\n",
    "    "
   ]
  },
  {
   "cell_type": "code",
   "execution_count": 34,
   "id": "378042dd",
   "metadata": {},
   "outputs": [
    {
     "data": {
      "text/plain": [
       "4.0"
      ]
     },
     "execution_count": 34,
     "metadata": {},
     "output_type": "execute_result"
    }
   ],
   "source": [
    "def num(a,b=1,c=1):\n",
    "    d = a*b\n",
    "    fin = d/c\n",
    "    return fin\n",
    "num(4)"
   ]
  },
  {
   "cell_type": "code",
   "execution_count": 39,
   "id": "ea33b896",
   "metadata": {},
   "outputs": [
    {
     "name": "stdout",
     "output_type": "stream",
     "text": [
      "hi\n"
     ]
    }
   ],
   "source": [
    "#Local variable - only used within a funtion\n",
    "def test():\n",
    "    wel = \"hi\"\n",
    "    print(wel)\n",
    "test()\n",
    "#print(wel)"
   ]
  },
  {
   "cell_type": "code",
   "execution_count": 42,
   "id": "f0637c6e",
   "metadata": {},
   "outputs": [
    {
     "name": "stdout",
     "output_type": "stream",
     "text": [
      "hello\n"
     ]
    }
   ],
   "source": [
    "#global variable - used throughtout the program\n",
    "wel = \"hello\"\n",
    "def test():\n",
    "    #wel = \"hi\"\n",
    "    print(wel)\n",
    "test()\n",
    "#print(wel)"
   ]
  },
  {
   "cell_type": "code",
   "execution_count": 44,
   "id": "f387d867",
   "metadata": {},
   "outputs": [
    {
     "name": "stdout",
     "output_type": "stream",
     "text": [
      "hi\n",
      "hi\n"
     ]
    }
   ],
   "source": [
    "#converting a local variable into global variable\n",
    "a = \"hello\"\n",
    "def test():\n",
    "    global a\n",
    "    a = \"hi\"\n",
    "    print(a)\n",
    "test()\n",
    "print(a)"
   ]
  },
  {
   "cell_type": "code",
   "execution_count": 45,
   "id": "af408d7c",
   "metadata": {},
   "outputs": [
    {
     "name": "stdout",
     "output_type": "stream",
     "text": [
      "(1, 2, 3, 4, 5)\n"
     ]
    },
    {
     "data": {
      "text/plain": [
       "(1, 2, 3, 4, 5)"
      ]
     },
     "execution_count": 45,
     "metadata": {},
     "output_type": "execute_result"
    }
   ],
   "source": [
    "#when number of arguments is not known - for positional argument - returns tuples\n",
    "def test(*args):\n",
    "    print(args)\n",
    "    return args\n",
    "test(1,2,3,4,5)"
   ]
  },
  {
   "cell_type": "code",
   "execution_count": 47,
   "id": "bffbbb23",
   "metadata": {},
   "outputs": [
    {
     "name": "stdout",
     "output_type": "stream",
     "text": [
      "Yoga\n",
      "{'fname': 'Yoga', 'mname': 'Sree', 'lname': 'Durga'}\n"
     ]
    }
   ],
   "source": [
    "#when number of arguments is not known - for keyword argument - returns dictionary\n",
    "def test(**kwargs):\n",
    "    fname = kwargs.get(\"fname\")\n",
    "    print(fname)\n",
    "    print(kwargs)\n",
    "test(fname = \"Yoga\",mname = \"Sree\",lname = \"Durga\")"
   ]
  },
  {
   "cell_type": "code",
   "execution_count": 48,
   "id": "ee88e7ce",
   "metadata": {},
   "outputs": [
    {
     "data": {
      "text/plain": [
       "4"
      ]
     },
     "execution_count": 48,
     "metadata": {},
     "output_type": "execute_result"
    }
   ],
   "source": [
    "var = lambda aa , bb : aa + bb\n",
    "var(3,1)"
   ]
  },
  {
   "cell_type": "code",
   "execution_count": 50,
   "id": "aaa33517",
   "metadata": {},
   "outputs": [],
   "source": [
    "#use funtions for all three assignments\n",
    "#assignment1: a = [1,2,3,4] b = [a,b,c,d] o/p = [[a,1],[b,2],[c,3],[d,4]]\n",
    "#assignment2: ['test','try','test','dummy'] o/p = {'test':2,'try':1,'dummy':1}\n",
    "#assignment3: Use lambda function to get a number and check if its even or not"
   ]
  },
  {
   "cell_type": "code",
   "execution_count": null,
   "id": "4f63eb93",
   "metadata": {},
   "outputs": [],
   "source": []
  }
 ],
 "metadata": {
  "kernelspec": {
   "display_name": "Python 3 (ipykernel)",
   "language": "python",
   "name": "python3"
  },
  "language_info": {
   "codemirror_mode": {
    "name": "ipython",
    "version": 3
   },
   "file_extension": ".py",
   "mimetype": "text/x-python",
   "name": "python",
   "nbconvert_exporter": "python",
   "pygments_lexer": "ipython3",
   "version": "3.9.12"
  }
 },
 "nbformat": 4,
 "nbformat_minor": 5
}
