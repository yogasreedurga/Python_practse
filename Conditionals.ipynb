{
 "cells": [
  {
   "cell_type": "markdown",
   "id": "3a80918f",
   "metadata": {},
   "source": [
    "# if else"
   ]
  },
  {
   "cell_type": "code",
   "execution_count": 3,
   "id": "18283b3c",
   "metadata": {},
   "outputs": [],
   "source": [
    "a = 5\n",
    "b = 4\n",
    "#print(\"a is greater than b\") if a>b else print(\"b is greater than a\")"
   ]
  },
  {
   "cell_type": "code",
   "execution_count": 8,
   "id": "eed0cabe",
   "metadata": {},
   "outputs": [
    {
     "name": "stdout",
     "output_type": "stream",
     "text": [
      "a is greater than b\n"
     ]
    }
   ],
   "source": [
    "if a>b:\n",
    "    print(\"a is greater than b\")\n",
    "else:\n",
    "    print(\"b is greater than a\")"
   ]
  },
  {
   "cell_type": "markdown",
   "id": "5610f767",
   "metadata": {},
   "source": [
    "# if elif"
   ]
  },
  {
   "cell_type": "code",
   "execution_count": null,
   "id": "e7b5a8d5",
   "metadata": {},
   "outputs": [],
   "source": [
    "marks = 0\n",
    "if marks == 0:\n",
    "    print(\"You failed\")\n",
    "elif marks < 50:\n",
    "    print(\"Marks too low to pass\")\n",
    "elif marks <=60:\n",
    "    print(\"You just passed\")\n",
    "elif marks <=89:\n",
    "    print(\"Congrats!\")\n",
    "elif marks >=90:\n",
    "    print(\"Excellent!!!\")"
   ]
  },
  {
   "cell_type": "markdown",
   "id": "dd8edb22",
   "metadata": {},
   "source": [
    "# nested if"
   ]
  },
  {
   "cell_type": "code",
   "execution_count": 24,
   "id": "d22073ec",
   "metadata": {},
   "outputs": [
    {
     "name": "stdout",
     "output_type": "stream",
     "text": [
      "Expression value is less than 200\n"
     ]
    }
   ],
   "source": [
    "var = 0\n",
    "if var < 200:\n",
    "    print('Expression value is less than 200')\n",
    "    if var == 150:\n",
    "        print(\"Which is 150\")\n",
    "elif var == 100:\n",
    "    print(\"Which is 100\")\n",
    "elif var == 50:\n",
    "    print('Which is 50')\n",
    "elif var < 50:\n",
    "    print (\"Expression value is less than 50\")\n",
    "else:\n",
    "    print(\"Could not find true expression\")\n",
    "                     \n",
    "    "
   ]
  },
  {
   "cell_type": "code",
   "execution_count": null,
   "id": "0d551108",
   "metadata": {},
   "outputs": [],
   "source": []
  }
 ],
 "metadata": {
  "kernelspec": {
   "display_name": "Python 3 (ipykernel)",
   "language": "python",
   "name": "python3"
  },
  "language_info": {
   "codemirror_mode": {
    "name": "ipython",
    "version": 3
   },
   "file_extension": ".py",
   "mimetype": "text/x-python",
   "name": "python",
   "nbconvert_exporter": "python",
   "pygments_lexer": "ipython3",
   "version": "3.9.12"
  }
 },
 "nbformat": 4,
 "nbformat_minor": 5
}
